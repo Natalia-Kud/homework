{
 "cells": [
  {
   "cell_type": "code",
   "execution_count": 7,
   "metadata": {},
   "outputs": [
    {
     "data": {
      "text/plain": [
       "True"
      ]
     },
     "execution_count": 7,
     "metadata": {},
     "output_type": "execute_result"
    }
   ],
   "source": [
    "# сравнение строк\n",
    "a = ('Насколько проще было бы писать программы, если бы не заказчики')\n",
    "b = ('640Кб должно хватить для любых задач. Билл Гейтс (по легенде)')\n",
    "len(a) > len(b)"
   ]
  },
  {
   "cell_type": "code",
   "execution_count": 8,
   "metadata": {},
   "outputs": [
    {
     "data": {
      "text/plain": [
       "True"
      ]
     },
     "execution_count": 8,
     "metadata": {},
     "output_type": "execute_result"
    }
   ],
   "source": [
    "phrase_1 = '640Кб должно хватить для любых задач. Билл Гейтс (по легенде)'\n",
    "phrase_2 = 'Насколько проще было бы писать программы, если бы не заказчики'\n",
    "len(phrase_1) < len(phrase_2)"
   ]
  },
  {
   "cell_type": "code",
   "execution_count": 9,
   "metadata": {},
   "outputs": [
    {
     "data": {
      "text/plain": [
       "True"
      ]
     },
     "execution_count": 9,
     "metadata": {},
     "output_type": "execute_result"
    }
   ],
   "source": [
    "phrase_1 = 'Насколько проще было бы писать программы, если бы не заказчики'\n",
    "phrase_2 = 'Насколько проще было бы писать программы, если бы не заказчики'\n",
    "len(phrase_1) == len(phrase_2)"
   ]
  },
  {
   "cell_type": "code",
   "execution_count": 10,
   "metadata": {},
   "outputs": [
    {
     "name": "stdout",
     "output_type": "stream",
     "text": [
      "2020 Високосной год\n"
     ]
    }
   ],
   "source": [
    "#проверяем на деление на 4\n",
    "x = 2020\n",
    "if x % 4 == 0:\n",
    "    print(x, 'Високосной год')\n",
    "else:\n",
    "    print(x, 'Обычный год')"
   ]
  },
  {
   "cell_type": "code",
   "execution_count": 81,
   "metadata": {},
   "outputs": [
    {
     "name": "stdout",
     "output_type": "stream",
     "text": [
      "2019 Обычный год\n"
     ]
    }
   ],
   "source": [
    "x = 2019\n",
    "if x % 4 == 0:\n",
    "    print(x, 'Високосной год')\n",
    "else:\n",
    "    print(x, 'Обычный год')"
   ]
  },
  {
   "cell_type": "code",
   "execution_count": 84,
   "metadata": {},
   "outputs": [
    {
     "name": "stdout",
     "output_type": "stream",
     "text": [
      "2018 Обычный год\n"
     ]
    }
   ],
   "source": [
    "x = 2018\n",
    "if x % 4 == 0:\n",
    "    print(x, 'Високосной год')\n",
    "else:\n",
    "    print(x, 'Обычный год')"
   ]
  },
  {
   "cell_type": "code",
   "execution_count": 93,
   "metadata": {},
   "outputs": [
    {
     "name": "stdout",
     "output_type": "stream",
     "text": [
      "Близнецы\n"
     ]
    }
   ],
   "source": [
    "#Сравниваем даты и определяем знак зодиака\n",
    "date = 24\n",
    "month = 5\n",
    "if (date>=22 and date<=31 and month == 12) or (date>=1 and date<=20 and month == 1):\n",
    "    print ('Козерог')\n",
    "elif (date>=21 and date<=31 and month == 1) or (date>=1 and date<=18 and month == 2):\n",
    "    print ('Водолей')\n",
    "elif (date>=19 and date<=31 and month == 2) or (date>=1 and date<=20 and month == 3):\n",
    "    print ('Рыбы')\n",
    "elif (date>=21 and date<=31 and month == 3) or (date>=1 and date<=19 and month == 4):\n",
    "    print ('Овен')\n",
    "elif (date>=20 and date<=31 and month == 4) or (date>=1 and date<=20 and month == 5):\n",
    "    print ('Телец')\n",
    "elif (date>=21 and date<=31 and month == 5) or (date>=1 and date<=21 and month == 6):\n",
    "    print ('Близнецы')\n",
    "elif (date>=22 and date<=31 and month == 6) or (date>=1 and date<=22 and month == 7):\n",
    "    print ('Рак')\n",
    "elif (date>=23 and date<=31 and month == 7) or (date>=1 and date<=22 and month == 8):\n",
    "    print ('Лев')\n",
    "elif (date>=23 and date<=31 and month == 8) or (date>=1 and date<=22 and month == 9):\n",
    "    print ('Дева')\n",
    "elif (date>=23 and date<=31 and month == 9) or (date>=1 and date<=23 and month == 10):\n",
    "    print ('Весы')\n",
    "elif (date>=24 and date<=31 and month == 10) or (date>=1 and date<=22 and month == 11):\n",
    "    print ('Скорпион')\n",
    "elif (date>=23 and date<=31 and month == 11) or (date>=1 and date<=21 and month == 12):\n",
    "    print ('Стрелец')"
   ]
  },
  {
   "cell_type": "code",
   "execution_count": 96,
   "metadata": {},
   "outputs": [
    {
     "name": "stdout",
     "output_type": "stream",
     "text": [
      "Водолей\n"
     ]
    }
   ],
   "source": [
    "#Сравниваем даты и определяем знак зодиака\n",
    "date = 15\n",
    "month = 2\n",
    "if (date>=22 and date<=31 and month == 12) or (date>=1 and date<=20 and month == 1):\n",
    "    print ('Козерог')\n",
    "elif (date>=21 and date<=31 and month == 1) or (date>=1 and date<=18 and month == 2):\n",
    "    print ('Водолей')\n",
    "elif (date>=19 and date<=31 and month == 2) or (date>=1 and date<=20 and month == 3):\n",
    "    print ('Рыбы')\n",
    "elif (date>=21 and date<=31 and month == 3) or (date>=1 and date<=19 and month == 4):\n",
    "    print ('Овен')\n",
    "elif (date>=20 and date<=31 and month == 4) or (date>=1 and date<=20 and month == 5):\n",
    "    print ('Телец')\n",
    "elif (date>=21 and date<=31 and month == 5) or (date>=1 and date<=21 and month == 6):\n",
    "    print ('Близнецы')\n",
    "elif (date>=22 and date<=31 and month == 6) or (date>=1 and date<=22 and month == 7):\n",
    "    print ('Рак')\n",
    "elif (date>=23 and date<=31 and month == 7) or (date>=1 and date<=22 and month == 8):\n",
    "    print ('Лев')\n",
    "elif (date>=23 and date<=31 and month == 8) or (date>=1 and date<=22 and month == 9):\n",
    "    print ('Дева')\n",
    "elif (date>=23 and date<=31 and month == 9) or (date>=1 and date<=23 and month == 10):\n",
    "    print ('Весы')\n",
    "elif (date>=24 and date<=31 and month == 10) or (date>=1 and date<=22 and month == 11):\n",
    "    print ('Скорпион')\n",
    "elif (date>=23 and date<=31 and month == 11) or (date>=1 and date<=21 and month == 12):\n",
    "    print ('Стрелец')"
   ]
  },
  {
   "cell_type": "code",
   "execution_count": 194,
   "metadata": {},
   "outputs": [
    {
     "name": "stdout",
     "output_type": "stream",
     "text": [
      "Стандартная коробка №3\n"
     ]
    }
   ],
   "source": [
    "width = 15\n",
    "length = 50\n",
    "height = 15\n",
    "if (width<15 and length<15 and height<15):\n",
    "    print ('Коробка №1')\n",
    "elif (width>15 and length>15 and height>15) and (width<50 and length<50 and height<50) and length<200:\n",
    "    print ('Коробка №2')\n",
    "elif length > 200:\n",
    "     print ('Упаковка для лыж')\n",
    "else:\n",
    "    print('Стандартная коробка №3')"
   ]
  },
  {
   "cell_type": "code",
   "execution_count": 195,
   "metadata": {},
   "outputs": [
    {
     "name": "stdout",
     "output_type": "stream",
     "text": [
      "Упаковка для лыж\n"
     ]
    }
   ],
   "source": [
    "width = 45\n",
    "length = 205\n",
    "height = 45\n",
    "if (width<15 and length<15 and height<15):\n",
    "    print ('Коробка №1')\n",
    "elif (width>15 and length>15 and height>15) and (width<50 and length<50 and height<50) and length<200:\n",
    "    print ('Коробка №2')\n",
    "elif length > 200:\n",
    "     print ('Упаковка для лыж')\n",
    "else:\n",
    "    print('Стандартная коробка №3')"
   ]
  },
  {
   "cell_type": "code",
   "execution_count": 1,
   "metadata": {},
   "outputs": [
    {
     "name": "stdout",
     "output_type": "stream",
     "text": [
      "несчастливый билет\n"
     ]
    }
   ],
   "source": [
    "bilet = ['1','2','3','4','5','6']\n",
    "sum_1 = int(bilet[0])+int(bilet[1])+int(bilet[2])\n",
    "sum_2 = int(bilet[3])+int(bilet[4])+int(bilet[5])\n",
    "if sum_1 == sum_2:\n",
    "         print ('Счастливый билет')\n",
    "else:\n",
    "         print ('несчастливый билет')"
   ]
  },
  {
   "cell_type": "code",
   "execution_count": 2,
   "metadata": {},
   "outputs": [
    {
     "name": "stdout",
     "output_type": "stream",
     "text": [
      "Счастливый билет\n"
     ]
    }
   ],
   "source": [
    "bilet = ['1','2','3','3','2','1']\n",
    "sum_1 = int(bilet[0])+int(bilet[1])+int(bilet[2])\n",
    "sum_2 = int(bilet[3])+int(bilet[4])+int(bilet[5])\n",
    "if sum_1 == sum_2:\n",
    "         print ('Счастливый билет')\n",
    "else:\n",
    "         print ('несчастливый билет')"
   ]
  },
  {
   "cell_type": "code",
   "execution_count": 3,
   "metadata": {},
   "outputs": [
    {
     "name": "stdout",
     "output_type": "stream",
     "text": [
      "Счастливый билет\n"
     ]
    }
   ],
   "source": [
    "bilet = ['2','4','3','3','3','3']\n",
    "sum_1 = int(bilet[0])+int(bilet[1])+int(bilet[2])\n",
    "sum_2 = int(bilet[3])+int(bilet[4])+int(bilet[5])\n",
    "if sum_1 == sum_2:\n",
    "         print ('Счастливый билет')\n",
    "else:\n",
    "         print ('несчастливый билет')"
   ]
  },
  {
   "cell_type": "code",
   "execution_count": 4,
   "metadata": {},
   "outputs": [
    {
     "name": "stdout",
     "output_type": "stream",
     "text": [
      "Фраза 1 длиннее фразы 2\n"
     ]
    }
   ],
   "source": [
    "#Доработка задание 1.1 \n",
    "phrase_1 = 'Насколько проще было бы писать программы, если бы не заказчики'\n",
    "phrase_2 = '640Кб должно хватить для любых задач. Билл Гейтс (по легенде)'\n",
    "if len (phrase_1) > len (phrase_2):\n",
    "    print('Фраза 1 длиннее фразы 2')\n",
    "elif len(phrase_1) < len (phrase_2):\n",
    "    print('Фраза 2 длиннее фразы 1')\n",
    "else:\n",
    "     print('Фразы равной длины')"
   ]
  },
  {
   "cell_type": "code",
   "execution_count": 5,
   "metadata": {},
   "outputs": [
    {
     "name": "stdout",
     "output_type": "stream",
     "text": [
      "Фраза 2 длиннее фразы 1\n"
     ]
    }
   ],
   "source": [
    "phrase_1 = '640Кб должно хватить для любых задач. Билл Гейтс (по легенде)'\n",
    "phrase_2 = 'Насколько проще было бы писать программы, если бы не заказчики'\n",
    "if len (phrase_1) > len (phrase_2):\n",
    "    print('Фраза 1 длиннее фразы 2')\n",
    "elif len(phrase_1) < len (phrase_2):\n",
    "    print('Фраза 2 длиннее фразы 1')\n",
    "else:\n",
    "     print('Фразы равной длины')"
   ]
  },
  {
   "cell_type": "code",
   "execution_count": 6,
   "metadata": {},
   "outputs": [
    {
     "name": "stdout",
     "output_type": "stream",
     "text": [
      "Фразы равной длины\n"
     ]
    }
   ],
   "source": [
    "phrase_1 = 'Насколько проще было бы писать программы, если бы не заказчики'\n",
    "phrase_2 = 'Насколько проще было бы писать программы, если бы не заказчики'\n",
    "if len (phrase_1) > len (phrase_2):\n",
    "    print('Фраза 1 длиннее фразы 2')\n",
    "elif len(phrase_1) < len (phrase_2):\n",
    "    print('Фраза 2 длиннее фразы 1')\n",
    "else:\n",
    "     print('Фразы равной длины')"
   ]
  },
  {
   "cell_type": "code",
   "execution_count": 28,
   "metadata": {},
   "outputs": [
    {
     "name": "stdout",
     "output_type": "stream",
     "text": [
      "2019 Обычный год\n"
     ]
    }
   ],
   "source": [
    "#Доработка задание 1.2\n",
    "year = 2019\n",
    "if year % 4 == 0 and year % 100 != 0 or year % 400 == 0:\n",
    "     print(year, 'Високосной год')\n",
    "else:\n",
    "    print(year, 'Обычный год')"
   ]
  },
  {
   "cell_type": "code",
   "execution_count": 29,
   "metadata": {},
   "outputs": [
    {
     "name": "stdout",
     "output_type": "stream",
     "text": [
      "2020 Високосной год\n"
     ]
    }
   ],
   "source": [
    "year = 2020\n",
    "if year % 4 == 0 and year % 100 != 0 or year % 400 == 0:\n",
    "     print(year, 'Високосной год')\n",
    "else:\n",
    "    print(year, 'Обычный год')"
   ]
  },
  {
   "cell_type": "code",
   "execution_count": 34,
   "metadata": {},
   "outputs": [
    {
     "name": "stdout",
     "output_type": "stream",
     "text": [
      "Стандартная коробка №3\n"
     ]
    }
   ],
   "source": [
    "#Доработка задания 1.4 \n",
    "width = 15\n",
    "length = 50\n",
    "height = 15\n",
    "if (width <15 and lengt<15 and height<15):\n",
    "    print ('Коробка №1')\n",
    "elif length > 200:\n",
    "    print ('Упаковка для лыж')\n",
    "elif (width>15 and length>15 and height>15) or (width<50 and length<50 and height<50) and length<200:\n",
    "    print ('Коробка №2')\n",
    "else:\n",
    "    print('Стандартная коробка №3')"
   ]
  },
  {
   "cell_type": "code",
   "execution_count": 33,
   "metadata": {},
   "outputs": [
    {
     "name": "stdout",
     "output_type": "stream",
     "text": [
      "Упаковка для лыж\n"
     ]
    }
   ],
   "source": [
    "width = 45\n",
    "length = 205\n",
    "height = 45\n",
    "if (width<15 and length<15 and height<15):\n",
    "    print ('Коробка №1')\n",
    "elif length > 200:\n",
    "    print ('Упаковка для лыж')\n",
    "elif (width>15 and length>15 and height>15) or (width<50 and length<50 and height<50) and length<200:\n",
    "    print ('Коробка №2')\n",
    "else:\n",
    "    print('Стандартная коробка №3')"
   ]
  },
  {
   "cell_type": "code",
   "execution_count": 35,
   "metadata": {},
   "outputs": [
    {
     "name": "stdout",
     "output_type": "stream",
     "text": [
      "Упаковка для лыж\n"
     ]
    }
   ],
   "source": [
    "width = 10\n",
    "length = 205\n",
    "height = 5\n",
    "if (width<15 and length<15 and height<15):\n",
    "    print ('Коробка №1')\n",
    "elif length > 200:\n",
    "    print ('Упаковка для лыж')\n",
    "elif (width>15 and length>15 and height>15) or (width<50 and length<50 and height<50) and length<200:\n",
    "    print ('Коробка №2')\n",
    "else:\n",
    "    print('Стандартная коробка №3')"
   ]
  },
  {
   "cell_type": "code",
   "execution_count": null,
   "metadata": {},
   "outputs": [],
   "source": []
  }
 ],
 "metadata": {
  "kernelspec": {
   "display_name": "Python 3",
   "language": "python",
   "name": "python3"
  },
  "language_info": {
   "codemirror_mode": {
    "name": "ipython",
    "version": 3
   },
   "file_extension": ".py",
   "mimetype": "text/x-python",
   "name": "python",
   "nbconvert_exporter": "python",
   "pygments_lexer": "ipython3",
   "version": "3.8.5"
  }
 },
 "nbformat": 4,
 "nbformat_minor": 4
}
