{
 "cells": [
  {
   "cell_type": "code",
   "execution_count": null,
   "metadata": {},
   "outputs": [],
   "source": [
    "#Практикуюсь\n",
    "my_integer=5\n",
    "type (my_integer)"
   ]
  },
  {
   "cell_type": "code",
   "execution_count": 2,
   "metadata": {},
   "outputs": [
    {
     "data": {
      "text/plain": [
       "float"
      ]
     },
     "execution_count": 2,
     "metadata": {},
     "output_type": "execute_result"
    }
   ],
   "source": [
    "my_float=2.5\n",
    "type (my_float)"
   ]
  },
  {
   "cell_type": "code",
   "execution_count": 3,
   "metadata": {},
   "outputs": [
    {
     "data": {
      "text/plain": [
       "str"
      ]
     },
     "execution_count": 3,
     "metadata": {},
     "output_type": "execute_result"
    }
   ],
   "source": [
    "my_string='Hellow world'\n",
    "type (my_string)"
   ]
  },
  {
   "cell_type": "code",
   "execution_count": 5,
   "metadata": {},
   "outputs": [
    {
     "data": {
      "text/plain": [
       "bool"
      ]
     },
     "execution_count": 5,
     "metadata": {},
     "output_type": "execute_result"
    }
   ],
   "source": [
    "my_bool=True\n",
    "type (my_bool)"
   ]
  },
  {
   "cell_type": "code",
   "execution_count": 7,
   "metadata": {},
   "outputs": [
    {
     "name": "stdout",
     "output_type": "stream",
     "text": [
      "Ваш выигрыш составил  500  рублей\n"
     ]
    }
   ],
   "source": [
    "#преобразование в строку\n",
    "x=500\n",
    "print('Ваш выигрыш составил ',x,' рублей')\n"
   ]
  },
  {
   "cell_type": "code",
   "execution_count": 12,
   "metadata": {},
   "outputs": [
    {
     "data": {
      "text/plain": [
       "1100"
      ]
     },
     "execution_count": 12,
     "metadata": {},
     "output_type": "execute_result"
    }
   ],
   "source": [
    "1000 + int('100')"
   ]
  },
  {
   "cell_type": "code",
   "execution_count": 13,
   "metadata": {},
   "outputs": [
    {
     "data": {
      "text/plain": [
       "2"
      ]
     },
     "execution_count": 13,
     "metadata": {},
     "output_type": "execute_result"
    }
   ],
   "source": [
    "1+ True"
   ]
  },
  {
   "cell_type": "code",
   "execution_count": null,
   "metadata": {},
   "outputs": [],
   "source": [
    "world = 'test'\n",
    "len (world)"
   ]
  },
  {
   "cell_type": "code",
   "execution_count": 5,
   "metadata": {},
   "outputs": [
    {
     "name": "stdout",
     "output_type": "stream",
     "text": [
      "es\n"
     ]
    }
   ],
   "source": [
    "# ДОМАШНЕЕ ЗАДАНИЕ №1\n",
    "word = 'test'\n",
    "if len(word) % 2 == 0:\n",
    "     print (word[int(len(word)/2)-1:int(len(word)/2)+1])\n",
    "elif len(word) % 2 != 0:\n",
    "        print(word[int(len(word) / 2)])"
   ]
  },
  {
   "cell_type": "code",
   "execution_count": 6,
   "metadata": {},
   "outputs": [
    {
     "name": "stdout",
     "output_type": "stream",
     "text": [
      "t\n"
     ]
    }
   ],
   "source": [
    "word = 'testing'\n",
    "if len(word) % 2 == 0:\n",
    "     print (word[int(len(word)/2)-1:int(len(word)/2)+1])\n",
    "elif len(word) % 2 != 0:\n",
    "        print(word[int(len(word) / 2)])"
   ]
  },
  {
   "cell_type": "code",
   "execution_count": 10,
   "metadata": {},
   "outputs": [
    {
     "name": "stdout",
     "output_type": "stream",
     "text": [
      "a\n"
     ]
    }
   ],
   "source": [
    "word = 'bananas'\n",
    "if len(word) % 2 == 0:\n",
    "     print (word[int(len(word)/2)-1:int(len(word)/2)+1])\n",
    "elif len(word) % 2 != 0:\n",
    "        print(word[int(len(word) / 2)])"
   ]
  },
  {
   "cell_type": "code",
   "execution_count": 8,
   "metadata": {},
   "outputs": [
    {
     "name": "stdout",
     "output_type": "stream",
     "text": [
      "ha\n"
     ]
    }
   ],
   "source": [
    "word = 'alphabit'\n",
    "if len(word) % 2 == 0:\n",
    "     print (word[int(len(word)/2)-1:int(len(word)/2)+1])\n",
    "elif len(word) % 2 != 0:\n",
    "        print(word[int(len(word) / 2)])"
   ]
  },
  {
   "cell_type": "code",
   "execution_count": 12,
   "metadata": {},
   "outputs": [
    {
     "data": {
      "text/plain": [
       "14"
      ]
     },
     "execution_count": 12,
     "metadata": {},
     "output_type": "execute_result"
    }
   ],
   "source": [
    "#Практикуюсь\n",
    "spisok= [['Anna', 15], ['Masha', 18], ['Olga', 14], ['Marina', 11], ['Katja', 13]]\n",
    "spisok [2][1]"
   ]
  },
  {
   "cell_type": "code",
   "execution_count": 68,
   "metadata": {},
   "outputs": [
    {
     "data": {
      "text/plain": [
       "'Olga'"
      ]
     },
     "execution_count": 68,
     "metadata": {},
     "output_type": "execute_result"
    }
   ],
   "source": [
    "#Практикуюсь\n",
    "spisok= [['Anna', 15], ['Masha', 18], ['Olga', 14], ['Marina', 11], ['Katja', 13]]\n",
    "spisok [2][0]"
   ]
  },
  {
   "cell_type": "code",
   "execution_count": 70,
   "metadata": {},
   "outputs": [
    {
     "name": "stdout",
     "output_type": "stream",
     "text": [
      "[['Anna', 15], ['Masha', 18], ['Olga', 12], ['Marina', 11], ['Katja', 13]]\n"
     ]
    }
   ],
   "source": [
    "spisok [2][1] = 12\n",
    "print (spisok)"
   ]
  },
  {
   "cell_type": "code",
   "execution_count": 80,
   "metadata": {},
   "outputs": [
    {
     "data": {
      "text/plain": [
       "[['Anna', 15], ['Masha', 18], ['Olga', 12]]"
      ]
     },
     "execution_count": 80,
     "metadata": {},
     "output_type": "execute_result"
    }
   ],
   "source": [
    "spisok [0:3]"
   ]
  },
  {
   "cell_type": "code",
   "execution_count": 82,
   "metadata": {},
   "outputs": [
    {
     "data": {
      "text/plain": [
       "['второй', 'третий', 'четвертый', 'пятый', 'шестой']"
      ]
     },
     "execution_count": 82,
     "metadata": {},
     "output_type": "execute_result"
    }
   ],
   "source": [
    "first, *other, last = ('первый','второй','третий','четвертый','пятый','шестой','седьиой')\n",
    "other"
   ]
  },
  {
   "cell_type": "code",
   "execution_count": 83,
   "metadata": {},
   "outputs": [
    {
     "data": {
      "text/plain": [
       "('первый', 'седьиой')"
      ]
     },
     "execution_count": 83,
     "metadata": {},
     "output_type": "execute_result"
    }
   ],
   "source": [
    "first, last"
   ]
  },
  {
   "cell_type": "code",
   "execution_count": 91,
   "metadata": {},
   "outputs": [
    {
     "name": "stdout",
     "output_type": "stream",
     "text": [
      "[['Anna', 15], ['Dasha', 10], ['Masha', 18], ['Vera', 13], ['Vera', 13], ['Vera', 13], ['Olga', 12], ['Vera', 13], ['Vera', 13], ['Marina', 11], ['Katja', 13]]\n"
     ]
    }
   ],
   "source": [
    "spisok.insert(1,['Dasha',10])\n",
    "print(spisok)"
   ]
  },
  {
   "cell_type": "code",
   "execution_count": 93,
   "metadata": {},
   "outputs": [
    {
     "data": {
      "text/plain": [
       "5"
      ]
     },
     "execution_count": 93,
     "metadata": {},
     "output_type": "execute_result"
    }
   ],
   "source": [
    "spisok.count (['Vera',13])\n"
   ]
  },
  {
   "cell_type": "code",
   "execution_count": 106,
   "metadata": {},
   "outputs": [
    {
     "data": {
      "text/plain": [
       "['Alex', 'Arthur', 'John', 'Peter', 'Richard']"
      ]
     },
     "execution_count": 106,
     "metadata": {},
     "output_type": "execute_result"
    }
   ],
   "source": [
    "#Задание 3\n",
    "boys = ['Peter', 'Alex', 'John', 'Arthur', 'Richard']\n",
    "sorted (boys)"
   ]
  },
  {
   "cell_type": "code",
   "execution_count": 101,
   "metadata": {},
   "outputs": [
    {
     "data": {
      "text/plain": [
       "['Emma', 'Kate', 'Kira', 'Liza', 'Trisha']"
      ]
     },
     "execution_count": 101,
     "metadata": {},
     "output_type": "execute_result"
    }
   ],
   "source": [
    "girls = ['Kate', 'Liza', 'Kira', 'Emma', 'Trisha']\n",
    "sorted (girls)"
   ]
  },
  {
   "cell_type": "code",
   "execution_count": null,
   "metadata": {},
   "outputs": [],
   "source": [
    "# ДОМАШНЕЕ  ЗАДАНИЕ 3\n",
    "boys = ['Peter', 'Alex', 'John', 'Arthur', 'Richard','Michael']\n",
    "girls = ['Kate', 'Liza', 'Kira', 'Emma', 'Trisha']\n",
    "\n",
    "boys.sort(), girls.sort()\n",
    "boys_girls = zip(boys,girls)\n",
    "if len(boys) == len(girls): \n",
    "    print('Идеальные пары:')\n",
    "    for i, name in enumerate(boys_girls):\n",
    "        print(name[0], 'и', name[1])\n",
    "else:\n",
    "    print('Кто-то может остаться без пары')"
   ]
  },
  {
   "cell_type": "code",
   "execution_count": 2,
   "metadata": {},
   "outputs": [
    {
     "name": "stdout",
     "output_type": "stream",
     "text": [
      "Идеальные пары:\n",
      "Alex и Emma\n",
      "Arthur и Kate\n",
      "John и Kira\n",
      "Peter и Liza\n",
      "Richard и Trisha\n"
     ]
    }
   ],
   "source": [
    "boys = ['Peter', 'Alex', 'John', 'Arthur', 'Richard']\n",
    "girls = ['Kate', 'Liza', 'Kira', 'Emma', 'Trisha']\n",
    "\n",
    "boys.sort(), girls.sort()\n",
    "boys_girls = zip(boys,girls)\n",
    "if len(boys) == len(girls): \n",
    "    print('Идеальные пары:')\n",
    "    for i, name in enumerate(boys_girls):\n",
    "        print(name[0], 'и', name[1])\n",
    "else:\n",
    "    print('Кто-то может остаться без пары')"
   ]
  },
  {
   "cell_type": "code",
   "execution_count": 6,
   "metadata": {},
   "outputs": [
    {
     "name": "stdout",
     "output_type": "stream",
     "text": [
      "Средняя температура в странах:\n",
      "Thailand - 24 C\n",
      "Germany - 14 C\n",
      "Russia - 4 C\n",
      "Poland - 12 C\n"
     ]
    }
   ],
   "source": [
    "#ДОМАШНЕЕ ЗАДАНИЕ №4\n",
    "countries_temperature = [\n",
    "    ['Thailand', [75.2, 77, 78.8, 73.4, 68, 75.2, 77]],\n",
    "    ['Germany', [57.2, 55.4, 59, 59, 53.6]],\n",
    "    ['Russia', [35.6, 37.4, 39.2, 41, 42.8, 39.2, 35.6]],\n",
    "    ['Poland', [50, 50, 53.6, 57.2, 55.4, 55.4]]\n",
    "]\n",
    "print('Средняя температура в странах:')\n",
    "for i in countries_temperature:\n",
    "    print(i[0], '-', round((sum(i[1]) / len(i[1]) - 32)*5/9),'C')\n"
   ]
  },
  {
   "cell_type": "code",
   "execution_count": null,
   "metadata": {},
   "outputs": [
    {
     "name": "stdout",
     "output_type": "stream",
     "text": [
      "Введите число: 1\n",
      "Введите число: 4\n",
      "Введите число: 6\n",
      "Введите число: 0\n",
      "Результат: \n",
      "11\n"
     ]
    }
   ],
   "source": [
    "# ДОМАШНЕЕ ЗАДАНИЕ №2 \n",
    "spisok = []\n",
    "while True:\n",
    "    num = int(input(\"Введите число: \")) \n",
    "    if num == 0:\n",
    "        print(\"Результат: \")\n",
    "        print(sum(spisok))\n",
    "    spisok.append(num)"
   ]
  },
  {
   "cell_type": "code",
   "execution_count": 8,
   "metadata": {},
   "outputs": [
    {
     "name": "stdout",
     "output_type": "stream",
     "text": [
      "Введите число:\n",
      "1\n",
      "4\n",
      "6\n",
      "0\n"
     ]
    }
   ],
   "source": [
    "spisok = ['1','4','6','0'] \n",
    "if i != 0:\n",
    "    print('Введите число:')\n",
    "    for i in spisok:\n",
    "        print (i[0])\n",
    "elif i == 0: \n",
    "    for i in spisok:\n",
    "        print('Результат:')\n",
    "        print(sum(spisok))"
   ]
  },
  {
   "cell_type": "code",
   "execution_count": null,
   "metadata": {},
   "outputs": [],
   "source": [
    "# ДОМАШНЕЕ ЗАДАНИЕ №2 \n",
    "spisok = []\n",
    "while True:\n",
    "    num = int(input(\"Введите число: \")) \n",
    "    if num == 0:\n",
    "        print(\"Результат: \")\n",
    "        print(sum(spisok))\n",
    "    spisok.append(num)"
   ]
  },
  {
   "cell_type": "code",
   "execution_count": null,
   "metadata": {},
   "outputs": [],
   "source": []
  }
 ],
 "metadata": {
  "kernelspec": {
   "display_name": "Python 3",
   "language": "python",
   "name": "python3"
  },
  "language_info": {
   "codemirror_mode": {
    "name": "ipython",
    "version": 3
   },
   "file_extension": ".py",
   "mimetype": "text/x-python",
   "name": "python",
   "nbconvert_exporter": "python",
   "pygments_lexer": "ipython3",
   "version": "3.8.5"
  }
 },
 "nbformat": 4,
 "nbformat_minor": 4
}
